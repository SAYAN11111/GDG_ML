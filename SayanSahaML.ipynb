{
 "cells": [
  {
   "cell_type": "markdown",
   "id": "5952c4c8-9a76-426c-b162-ff84f0d11453",
   "metadata": {},
   "source": [
    "Learning Activations in Neural Networks"
   ]
  },
  {
   "cell_type": "code",
   "execution_count": 1,
   "id": "c5f127d3-9416-4348-b0bd-b851ff345ad9",
   "metadata": {},
   "outputs": [],
   "source": [
    "import numpy as np"
   ]
  },
  {
   "cell_type": "code",
   "execution_count": 3,
   "id": "f5bad98c-9278-4785-9cd5-f6d93fc92e8f",
   "metadata": {},
   "outputs": [],
   "source": [
    "def ada_act(x, K):\n",
    "    return K[0] + K[1] * x"
   ]
  },
  {
   "cell_type": "code",
   "execution_count": 5,
   "id": "6a0acdc3-f3cd-4bbc-84e3-f12cb640fec4",
   "metadata": {},
   "outputs": [],
   "source": [
    "def ada_act_derivative(x, K):\n",
    "    return K[1] "
   ]
  },
  {
   "cell_type": "code",
   "execution_count": 7,
   "id": "04c5b356-9e08-436a-a622-5fb7fa347f91",
   "metadata": {},
   "outputs": [],
   "source": [
    "def softmax(z):\n",
    "    exp_z = np.exp(z - np.max(z, axis=1, keepdims=True))\n",
    "    return exp_z / np.sum(exp_z, axis=1, keepdims=True)"
   ]
  },
  {
   "cell_type": "code",
   "execution_count": 9,
   "id": "43d41e71-7199-4790-84bf-3ba110986b1b",
   "metadata": {},
   "outputs": [],
   "source": [
    "def forward(X, w1, b1, w2, b2, w3, b3, K):\n",
    "    z1 = np.dot(X, w1) + b1\n",
    "    a1 = ada_act(z1, K)\n",
    "    z2 = np.dot(a1, w2) + b2\n",
    "    a2 = ada_act(z2, K)\n",
    "    z3 = np.dot(a2, w3) + b3\n",
    "    a3 = softmax(z3)\n",
    "    return a3, a1, a2, z1, z2"
   ]
  },
  {
   "cell_type": "code",
   "execution_count": 11,
   "id": "17e76fa3-9ba6-4bf5-84a9-80f86b0a81c5",
   "metadata": {},
   "outputs": [],
   "source": [
    "def compute_loss(y_true, y_pred):\n",
    "    return -np.mean(np.sum(y_true * np.log(y_pred + 1e-9), axis=1))"
   ]
  },
  {
   "cell_type": "code",
   "execution_count": 13,
   "id": "f6ad31d1-ebc9-4d9a-b6c8-9ca92bf58141",
   "metadata": {},
   "outputs": [],
   "source": [
    "def accuracy(y_true, y_pred):\n",
    "    return np.mean(np.argmax(y_true, axis=1) == np.argmax(y_pred, axis=1))"
   ]
  },
  {
   "cell_type": "code",
   "execution_count": 15,
   "id": "35a36003-b928-49a9-b263-03e3bfa03f1b",
   "metadata": {},
   "outputs": [],
   "source": [
    "def update_parameters(X, y, a1, a2, z1, z2, a3, w1, b1, w2, b2, w3, b3, K, learning_rate):\n",
    "    dz3 = a3 - y\n",
    "    dw3 = np.dot(a2.T, dz3) / X.shape[0]\n",
    "    db3 = np.mean(dz3, axis=0, keepdims=True)\n",
    "\n",
    "    da2 = np.dot(dz3, w3.T)\n",
    "    dz2 = da2 * ada_act_derivative(z2, K)\n",
    "    dw2 = np.dot(a1.T, dz2) / X.shape[0]\n",
    "    db2 = np.mean(dz2, axis=0, keepdims=True)\n",
    "\n",
    "    da1 = np.dot(dz2, w2.T)\n",
    "    dz1 = da1 * ada_act_derivative(z1, K)\n",
    "    dw1 = np.dot(X.T, dz1) / X.shape[0]\n",
    "    db1 = np.mean(dz1, axis=0, keepdims=True)\n",
    "\n",
    "    # Update weights and biases\n",
    "    w1 -= learning_rate * dw1\n",
    "    b1 -= learning_rate * db1\n",
    "    w2 -= learning_rate * dw2\n",
    "    b2 -= learning_rate * db2\n",
    "    w3 -= learning_rate * dw3\n",
    "    b3 -= learning_rate * db3\n",
    "    \n",
    "    # Update activation function parameters\n",
    "    K -= learning_rate * np.array([\n",
    "        np.mean(dw1),\n",
    "        np.mean(dw2),\n",
    "        np.mean(dw3)\n",
    "    ]).reshape(-1, 1)\n",
    "\n",
    "    return w1, b1, w2, b2, w3, b3, K"
   ]
  },
  {
   "cell_type": "code",
   "execution_count": 17,
   "id": "7126a2dc-a138-4087-91ba-fdee9adb6b36",
   "metadata": {},
   "outputs": [],
   "source": [
    "def accuracy(y_true, y_pred):\n",
    "    return np.mean(np.argmax(y_true, axis=1) == np.argmax(y_pred, axis=1))"
   ]
  },
  {
   "cell_type": "code",
   "execution_count": 88,
   "id": "e29a9d20-1587-4ba1-a9f6-c8af233ea655",
   "metadata": {},
   "outputs": [],
   "source": [
    "np.random.seed(42)\n",
    "X_train = np.random.rand(1000, 3)\n",
    "y_train = np.random.randint(0, 3, size=(1000,))\n",
    "y_train = np.eye(3)[y_train]  \n",
    "X_test = np.random.rand(10, 3)\n",
    "y_test = np.random.randint(0, 3, size=(10,))\n",
    "y_test = np.eye(3)[y_test] "
   ]
  },
  {
   "cell_type": "code",
   "execution_count": 140,
   "id": "3cbe7558-e4f6-41a7-a83c-78c443541cbd",
   "metadata": {},
   "outputs": [],
   "source": [
    "input_size = 3\n",
    "hidden_size1 = 5\n",
    "hidden_size2 = 3\n",
    "output_size = 3\n",
    "learning_rate = 0.01\n",
    "epochs = 1000"
   ]
  },
  {
   "cell_type": "code",
   "execution_count": 120,
   "id": "51e44d5b-458f-456a-a7b5-ff8707c119f2",
   "metadata": {},
   "outputs": [],
   "source": [
    "w1 = np.random.randn(input_size, hidden_size1) * 0.01\n",
    "b1 = np.zeros((1, hidden_size1))\n",
    "w2 = np.random.randn(hidden_size1, hidden_size2) * 0.01\n",
    "b2 = np.zeros((1, hidden_size2))\n",
    "w3 = np.random.randn(hidden_size2, output_size) * 0.01\n",
    "b3 = np.zeros((1, output_size))\n",
    "K = np.random.randn(3, 1) * 0.1 "
   ]
  },
  {
   "cell_type": "code",
   "execution_count": 122,
   "id": "2be3dd2e-2922-4c18-b477-70d9062fd2c2",
   "metadata": {},
   "outputs": [
    {
     "data": {
      "text/plain": [
       "array([[0., 0., 0., 0., 0.]])"
      ]
     },
     "execution_count": 122,
     "metadata": {},
     "output_type": "execute_result"
    }
   ],
   "source": [
    "b1"
   ]
  },
  {
   "cell_type": "code",
   "execution_count": 124,
   "id": "1f5127aa-2357-4ce7-b4d4-72f5cf07df8c",
   "metadata": {},
   "outputs": [],
   "source": [
    "train_losses = []\n",
    "test_losses = []\n",
    "train_accuracies = []\n",
    "test_accuracies = []\n",
    "f1_scores = []"
   ]
  },
  {
   "cell_type": "code",
   "execution_count": 126,
   "id": "36d9b1c1-1208-4982-9c96-5cb399458d5c",
   "metadata": {},
   "outputs": [],
   "source": [
    "from sklearn.metrics import f1_score"
   ]
  },
  {
   "cell_type": "code",
   "execution_count": 150,
   "id": "3968452e-8d66-491f-956a-b300599bd4f9",
   "metadata": {},
   "outputs": [
    {
     "name": "stdout",
     "output_type": "stream",
     "text": [
      "Epoch 0, Train Loss: 1.0986, Train Acc: 0.3410, Test Loss: 1.0977, Test Acc: 0.6000, F1 Score: 0.4500\n",
      "Epoch 100, Train Loss: 1.0986, Train Acc: 0.3410, Test Loss: 1.0977, Test Acc: 0.6000, F1 Score: 0.4500\n",
      "Epoch 200, Train Loss: 1.0986, Train Acc: 0.3410, Test Loss: 1.0977, Test Acc: 0.6000, F1 Score: 0.4500\n",
      "Epoch 300, Train Loss: 1.0986, Train Acc: 0.3410, Test Loss: 1.0977, Test Acc: 0.6000, F1 Score: 0.4500\n",
      "Epoch 400, Train Loss: 1.0986, Train Acc: 0.3410, Test Loss: 1.0977, Test Acc: 0.6000, F1 Score: 0.4500\n",
      "Epoch 500, Train Loss: 1.0986, Train Acc: 0.3410, Test Loss: 1.0977, Test Acc: 0.6000, F1 Score: 0.4500\n",
      "Epoch 600, Train Loss: 1.0986, Train Acc: 0.3410, Test Loss: 1.0977, Test Acc: 0.6000, F1 Score: 0.4500\n",
      "Epoch 700, Train Loss: 1.0986, Train Acc: 0.3410, Test Loss: 1.0977, Test Acc: 0.6000, F1 Score: 0.4500\n",
      "Epoch 800, Train Loss: 1.0986, Train Acc: 0.3410, Test Loss: 1.0977, Test Acc: 0.6000, F1 Score: 0.4500\n",
      "Epoch 900, Train Loss: 1.0986, Train Acc: 0.3410, Test Loss: 1.0977, Test Acc: 0.6000, F1 Score: 0.4500\n"
     ]
    }
   ],
   "source": [
    "for epoch in range(epochs):\n",
    "    output, a1, a2, z1, z2 = forward(X_train, w1, b1, w2, b2, w3, b3, K)\n",
    "        \n",
    "    train_loss = compute_loss(y_train, output)\n",
    "    train_accuracy = accuracy(y_train, output)\n",
    "    train_losses.append(train_loss)\n",
    "    train_accuracies.append(train_accuracy)\n",
    "\n",
    "    w1, b1, w2, b2, w3, b3, K = update_parameters(X_train, y_train, a1, a2, z1, z2, output, w1, b1, w2, b2, w3, b2, K, learning_rate)\n",
    "\n",
    "    test_output, _, _, _, _ = forward(X_test, w1, b1, w2, b2, w3, b3, K)\n",
    "    test_loss = compute_loss(y_test, test_output)\n",
    "    test_accuracy = accuracy(y_test, test_output)\n",
    "    test_losses.append(test_loss)\n",
    "    test_accuracies.append(test_accuracy)\n",
    "\n",
    "    f1 = f1_score(np.argmax(y_test, axis=1), np.argmax(test_output, axis=1), average='weighted')\n",
    "    f1_scores.append(f1)\n",
    "    learning_rate = learning_rate * 0.5\n",
    "    \n",
    "    if epoch % 100 == 0:\n",
    "        print(f'Epoch {epoch}, Train Loss: {train_loss:.4f}, Train Acc: {train_accuracy:.4f}, '\n",
    "                f'Test Loss: {test_loss:.4f}, Test Acc: {test_accuracy:.4f}, F1 Score: {f1:.4f}')\n",
    "\n"
   ]
  },
  {
   "cell_type": "code",
   "execution_count": 152,
   "id": "60b8385f-99ff-440b-86f3-acfbeda2299e",
   "metadata": {},
   "outputs": [
    {
     "data": {
      "image/png": "[encoded data removed]",
      "text/plain": [
       "<Figure size 1200x600 with 1 Axes>"
      ]
     },
     "metadata": {},
     "output_type": "display_data"
    },
    {
     "name": "stdout",
     "output_type": "stream",
     "text": [
      "Final Parameters: k0=-0.0822, k1=0.1188, k2=0.1536\n"
     ]
    }
   ],
   "source": [
    "import matplotlib.pyplot as plt\n",
    "plt.figure(figsize=(12, 6))\n",
    "plt.plot(train_losses, label='Train Loss')\n",
    "plt.plot(test_losses, label='Test Loss')\n",
    "plt.title('Loss vs Epochs')\n",
    "plt.xlabel('Epochs')\n",
    "plt.ylabel('Loss')\n",
    "plt.legend()\n",
    "plt.grid()\n",
    "plt.show()\n",
    "\n",
    "print(f'Final Parameters: k0={K[0][0]:.4f}, k1={K[1][0]:.4f}, k2={K[2][0]:.4f}')"
   ]
  },
  {
   "cell_type": "code",
   "execution_count": 146,
   "id": "a12ce1f7-dcbf-4f16-a952-5017b7aafab3",
   "metadata": {},
   "outputs": [
    {
     "data": {
      "text/plain": [
       "0.6"
      ]
     },
     "execution_count": 146,
     "metadata": {},
     "output_type": "execute_result"
    }
   ],
   "source": [
    "test_accuracy"
   ]
  },
  {
   "cell_type": "code",
   "execution_count": 156,
   "id": "5394bcbb-8622-4bdb-b9ef-1608d9ff1363",
   "metadata": {},
   "outputs": [
    {
     "data": {
      "text/plain": [
       "0.45"
      ]
     },
     "execution_count": 156,
     "metadata": {},
     "output_type": "execute_result"
    }
   ],
   "source": [
    "f1"
   ]
  },
  {
   "cell_type": "code",
   "execution_count": null,
   "id": "80b69924-7566-4a0e-ab34-0de1562728e8",
   "metadata": {},
   "outputs": [],
   "source": []
  }
 ],
 "metadata": {
  "kernelspec": {
   "display_name": "Python 3 (ipykernel)",
   "language": "python",
   "name": "python3"
  },
  "language_info": {
   "codemirror_mode": {
    "name": "ipython",
    "version": 3
   },
   "file_extension": ".py",
   "mimetype": "text/x-python",
   "name": "python",
   "nbconvert_exporter": "python",
   "pygments_lexer": "ipython3",
   "version": "3.11.7"
  },
  "widgets": {
   "application/vnd.jupyter.widget-state+json": {
    "state": {},
    "version_major": 2,
    "version_minor": 0
   }
  }
 },
 "nbformat": 4,
 "nbformat_minor": 5
}
